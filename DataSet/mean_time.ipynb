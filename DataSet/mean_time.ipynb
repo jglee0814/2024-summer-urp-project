{
 "cells": [
  {
   "cell_type": "markdown",
   "id": "5c905552-c6ba-40a9-b26e-845155b7c6ad",
   "metadata": {},
   "source": [
    "# mean_time의 Visualization\n",
    "양이 많은 관계로 **501.csv**만 시각화하였음"
   ]
  },
  {
   "cell_type": "code",
   "execution_count": 8,
   "id": "5dc94eb4-db62-4ad8-989a-fda3cb78271b",
   "metadata": {},
   "outputs": [],
   "source": [
    "import pandas as pd\n",
    "import numpy as np\n",
    "import torch\n",
    "from sklearn.model_selection import train_test_split\n",
    "from scipy.stats import mode\n",
    "import matplotlib.pyplot as plt"
   ]
  },
  {
   "cell_type": "code",
   "execution_count": 9,
   "id": "064f71cf-891b-4cc3-a9c1-ea614b816825",
   "metadata": {},
   "outputs": [],
   "source": [
    "# CSV file의 range 정하기\n",
    "file_numbers = range(501, 519)  # 501 ~ 518\n",
    "all_sequences = []"
   ]
  },
  {
   "cell_type": "code",
   "execution_count": 23,
   "id": "3792e5bf-8f02-49bd-97aa-3840b75420b2",
   "metadata": {},
   "outputs": [
    {
     "name": "stdout",
     "output_type": "stream",
     "text": [
      "Processing 501.csv...\n",
      "Processing 502.csv...\n",
      "Processing 503.csv...\n",
      "Processing 504.csv...\n",
      "Processing 505.csv...\n",
      "Processing 506.csv...\n",
      "Processing 507.csv...\n",
      "Processing 508.csv...\n",
      "Processing 509.csv...\n",
      "Processing 510.csv...\n",
      "Processing 511.csv...\n",
      "Processing 512.csv...\n",
      "Processing 513.csv...\n",
      "Processing 514.csv...\n",
      "Processing 515.csv...\n",
      "Processing 516.csv...\n",
      "Processing 517.csv...\n",
      "Processing 518.csv...\n"
     ]
    }
   ],
   "source": [
    "for num in file_numbers:\n",
    "    filename = f'{num}.csv'\n",
    "    print(f\"Processing {filename}...\")\n",
    "    df = pd.read_csv(filename)\n",
    "    df['timestamp'] = pd.to_datetime(df['timestamp'])  # pandas 내장 시간함수\n",
    "    df['second'] = df['timestamp'].dt.strftime('%Y-%m-%d %H:%M:%S')  # 년도-월-일 시간:분:초 까지만 추출\n",
    "\n",
    "    # Sensor들의 mean 구하기\n",
    "    sensor_means = df.groupby('second').mean().reset_index()\n",
    "\n",
    "    #display(sensor_means)\n",
    "\n",
    "    # label 지정\n",
    "    all_labels = [1, 3, 4, 5, 6, 7, 8]\n",
    "\n",
    "    # label distribution 계산. 이 때 unstack를 통해 등장하지 않은 label에도 0 할당\n",
    "    label_distributions = df.groupby('second')['label'].apply(lambda x: x.value_counts(normalize=True)).unstack(fill_value=0).reindex(columns=all_labels, fill_value=0)\n",
    "\n",
    "    # Merge\n",
    "    final_df = pd.merge(sensor_means, label_distributions, on='second', how='left')\n",
    "\n",
    "    # Final df 확인\n",
    "    #display(final_df)\n",
    "    \n",
    "    # 30초씩 묶기\n",
    "    num_rows = len(final_df) # 초의 개수\n",
    "    row_count = 0\n",
    "    while (row_count + 30 <= num_rows):\n",
    "        segment = final_df.iloc[row_count:row_count + 30]\n",
    "        next_label = final_df.iloc[row_count + 29][all_labels].values # 바로 다음을 예측하기 위해\n",
    "\n",
    "        '''if num == 501:\n",
    "            print(next_label)'''\n",
    "        \n",
    "        features = segment[['back_x', 'back_y', 'back_z', 'thigh_x', 'thigh_y', 'thigh_z']].values\n",
    "        \n",
    "        all_sequences.append((features, next_label))\n",
    "\n",
    "        '''if num == 501:\n",
    "            print(all_sequences)'''\n",
    "\n",
    "        row_count += 5"
   ]
  },
  {
   "cell_type": "code",
   "execution_count": 24,
   "id": "094a0769-341a-49bd-9cc6-bff97a1b8cc1",
   "metadata": {},
   "outputs": [
    {
     "name": "stdout",
     "output_type": "stream",
     "text": [
      "Training mode: X's shape -  torch.Size([40133, 30, 6]) Y's shape -  torch.Size([40133, 7])\n"
     ]
    },
    {
     "data": {
      "image/png": "[encoded data removed]",
      "text/plain": [
       "<Figure size 800x600 with 1 Axes>"
      ]
     },
     "metadata": {},
     "output_type": "display_data"
    }
   ],
   "source": [
    "# Feature와 label 분리\n",
    "features, labels = zip(*all_sequences)\n",
    "X = np.array(features, dtype=np.float32)\n",
    "Y = np.array(labels, dtype=np.float32)\n",
    "\n",
    "# NumPy 배열을 텐서로 변환\n",
    "X = torch.tensor(X, dtype=torch.float32)\n",
    "Y = torch.tensor(Y, dtype=torch.float32)\n",
    "\n",
    "# 7:3의 비율로 train / test 나누기\n",
    "X_train, X_test, Y_train, Y_test = train_test_split(X, Y, test_size=0.3, random_state=42)\n",
    "\n",
    "print(\"Training mode: X's shape - \", X_train.shape, \"Y's shape - \", Y_train.shape)\n",
    "\n",
    "# 저장\n",
    "torch.save(X_train, 'training_set_X.tensor')\n",
    "torch.save(X_test, 'test_set_X.tensor')\n",
    "torch.save(Y_train, 'training_set_Y.tensor')\n",
    "torch.save(Y_test, 'test_set_Y.tensor')\n",
    "\n",
    "# 각 label의 분포 시각화\n",
    "labels_count = Y_train.view(-1, len(all_labels)).argmax(dim=1).numpy()\n",
    "plt.figure(figsize=(8, 6))\n",
    "plt.hist(labels_count, bins=np.arange(len(all_labels)+1)-0.5, rwidth=0.8, color='green')\n",
    "plt.title('Label Distribution in Training Set')\n",
    "plt.xlabel('Label')\n",
    "plt.ylabel('Frequency')\n",
    "plt.xticks(range(len(all_labels)), all_labels)\n",
    "plt.show()"
   ]
  },
  {
   "cell_type": "code",
   "execution_count": null,
   "id": "4a981229-9a63-46ca-9ee9-8246e827614c",
   "metadata": {},
   "outputs": [],
   "source": []
  }
 ],
 "metadata": {
  "kernelspec": {
   "display_name": "Python 3 (ipykernel)",
   "language": "python",
   "name": "python3"
  },
  "language_info": {
   "codemirror_mode": {
    "name": "ipython",
    "version": 3
   },
   "file_extension": ".py",
   "mimetype": "text/x-python",
   "name": "python",
   "nbconvert_exporter": "python",
   "pygments_lexer": "ipython3",
   "version": "3.10.12"
  }
 },
 "nbformat": 4,
 "nbformat_minor": 5
}
